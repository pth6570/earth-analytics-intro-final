{
 "cells": [
  {
   "cell_type": "markdown",
   "metadata": {},
   "source": [
    "# Future Suitability for Sorghastrum nutans in Colorado's National Grasslands"
   ]
  },
  {
   "cell_type": "markdown",
   "metadata": {},
   "source": [
    "Between 1980 and 2022, Colorado's average temperatures increased 2.3°F and are expected to increased another 2.5°F by 2050 (Colorado Department of Natural Resources, n.d). While Colorado's temperature's are increasing, there is greater variation in models of the impact of climate change on precipitation (Colorado Department of Natural Resources, n.d). However, Colorado has experienced four of its five driest years on record in the past 23 years and the EPA has reported that summer rainfall is more likely to decrease than increase (EPA, 2016).\n",
    "\n",
    "This project will examine the amount of habitat suitability for a common grass, <i>Sorghastrum nutans</i>, in 2050 under RCP 4.5 (moderate) and RCP 8.5 (high emissions) scenarios in Colorado's two national grasslands: Pawnee National Grassland and Comanche National Grasslands. \n",
    "\n",
    "## Site Overview\n",
    "\n",
    "<figure>\n",
    "<a data-flickr-embed=\"true\" href=\"https://www.flickr.com/photos/denverjeffrey/7940292242\" title=\"Pawnee National Grassland\"><img src=\"https://live.staticflickr.com/8450/7940292242_ed694bcf0f_b.jpg\" width=\"1024\" height=\"683\" alt=\"Pawnee National Grassland\"/></a><script async src=\"//embedr.flickr.com/assets/client-code.js\" charset=\"utf-8\"></script>\n",
    "<figcaption>Jeffrey Beall, CC BY-SA 2.0</figcaption>\n",
    "</figure>\n",
    "\n",
    "### Pawnee National Grassland\n",
    "Historically, the Pawnee grassland was inhabited by American Indian groups who hunted bison that grazed in the area (Maxwell, 2020). In the nineteenth century, American Indian inhabitants were forcibly displaced by settlers (Maxwell, 2020). These settlers engaged in agriculture. Farmers in the area removed local grasses, resulting in dry, eroded soil and dust clouds. Many farmers left the area and in 1937 amind the Dust Bowl. Land was purchased from farmers by the government and activities to restore soil conditions and plant life were undertaken by the Soil Conservation Service (Maxwell, 2020). In 1960, the Pawnee National Grassland was established (Maxwell, 2020).\n",
    "\n",
    "Today, the Pawnee National Grasslands occurs on a 30-by-60 mile area, 193,060 acres of which is managed by the National Grassland, with the remainder being composed of private late, State of Colorado land, and the Central Plains Experimental Range (Forest Service, n.d.).\n",
    "\n",
    "<figure>\n",
    "<a href=\"https://npgallery.nps.gov/GetAsset/99885213d0aa44af9309de11cf62250c/proxyhires)\" title=\"Comanche National Grassland\"><img src=\"https://npgallery.nps.gov/GetAsset/99885213d0aa44af9309de11cf62250c/proxyhires)\" width=\"1024\" height=\"683\" alt=\"Comanche National Grassland\"/></a>\n",
    "<figcaption>U.S. National Park Service, Public Domain</figcaption>\n",
    "</figure>\n",
    "\n",
    "### Comanche National Grassland:\n",
    "The history of Comanche National Grassland is similar to that of Pawnee. The area of the Comanche National Grassland was historically inhabited by the Comanche from 1600s to the 1840s (Maxwell, 2023b). Like in the Pawnee National Grassland, the region's Comanche inhabitants were forcibly displaced by settlers whose poor agricultural practice combined with drought resulted in poor conditions during the Dust Bowl (Maxwell, 2023b).  Like the Pawnee National Grassland, the Comanche National Grassland was created in 1960 when lands restored after the dust bowl were moved to management of the Forest Service (Maxwell, 2023b).\n",
    "\n",
    "Today, the Comanche National Grassland consists of about 443,784 acres (Forest Service, n.d.). While large portions of land were under governmental management, some residents kept their land, resulting in a patchwork of private and public land within the area (Forest Service, n.d.)\n",
    "\n",
    "<figure>\n",
    "<a data-flickr-embed=\"true\" href=\"https://www.flickr.com/photos/tgpotterfield/15097655542\" title=\"Sorghastrum nutans (Indian grass) with Euthamia graminifolia foreground\"><img src=\"https://live.staticflickr.com/3895/15097655542_5a90b6c8dc_b.jpg\" width=\"1024\" height=\"683\" alt=\"Sorghastrum nutans (Indian grass) with Euthamia graminifolia foreground\"/></a><script async src=\"//embedr.flickr.com/assets/client-code.js\" charset=\"utf-8\"></script>\n",
    "<figcaption>Tom Potterfield, CC BY-SA 2.0</figcaption>\n",
    "</figure>\n",
    "\n",
    "### Sorghastrum nutans\n",
    "\n",
    "<i>Sorghastrum nutans</i> is a warm season perennial grass that grows from 3 to 8 feet tall (Brakie, 2017). It is native to North America and is found in large swaths of the country from the east coast to the Rocky Mountains (Brakie, 2017). \n",
    "\n",
    "<i>S. nutans</i> has deep roots and is suited to deep, moist soil with a wide pH range of 4.8 to 8.0 (Brakie, 2017). It has a medium tolerance to drought and requires 11 to 45 inches of annual precipitation (Brakie, 2017).\n",
    "\n",
    "It grows at elevations up to 6,500 ft and in area that get full sun exposure (Wilson, n.d.; North Carolina State Extension, n.d.)\n",
    "\n",
    "<i>S. nutans</i> is grazed upon by a variety of species and also provides cover and nesting areas for birds (Brakie, 2017). It is also used for nesting by bees and as a food source for the Pepper and Salt Skipper butterfly (Brakie, 2017). <i>S. nutans</i> is not currently categorized as threatened or engaged by the US Fish and Wildlife Service (Brakie, 2017)."
   ]
  },
  {
   "cell_type": "markdown",
   "metadata": {},
   "source": [
    "## Data\n",
    "This analysis utilized data related to soil pH, elevation, and precipitation.\n",
    "\n",
    "* <b>Soil pH</b>: Soil pH data was obtained from Polaris (Chaney et al., 2019). Soil data was downloaded for each grassland area at 60 to 100 cm depth. Each grassland's soil pH data consisted of a series of arrays that were merged and clipped to the boundaries of the grassland. A bounding box was used so the array was clipped to a rectangluar area containing the grassland.\n",
    "\n",
    "* <b>Elevation</b>: Elevation data was obtained from the Shuttle Radar Topography Mission (SRTM) dataset via the AppEEARS downloader (NASA JPL, 2013). Data was downloaded for the full extent of both grasslands and then clipped to the bounds of each grassland. Elevation data was also used to calculate slope and aspect within each grassland.\n",
    "\n",
    "* <b>Precipitation</b>: Data on projected precipitation in the year 2050 was obtained from MACA2(Hegewisch & Abatzoglou, 2022). The CCSM4 climate model was used. Data was obtained for the RCP 4.5 and RCP 8.5 scenarios. Data was again clipped to the respective boundaries of each grassland.\n",
    "\n",
    "Individual data arrays for each data variable were harmonized prior to analysis.\n",
    "\n",
    "The table below shows plots for each data element for both grasslands. In each plot, the boundaries of the grassland overlay the raster data. As mentioned above, both grasslands consist of patchworks of land, broken up by land held by other entities.\n",
    "\n",
    "  <body>\n",
    "    <table border = \"1\">\n",
    "         <tr>\n",
    "            <th>Pawnee National Grassland</th>\n",
    "            <th>Comanche National Grassland</th>\n",
    "         </tr>\n",
    "         <tr>\n",
    "            <td> <img src=\"https://pth6570.github.io/earth-analytics-intro-final/plots/pawnee_pH_plt.png\"  width=\"400\" alt=\"\"></td>\n",
    "            <td> <img src=\"https://pth6570.github.io/earth-analytics-intro-final/plots/comanche_pH_plt.png\"  width=\"400\" alt=\"\"></td>\n",
    "         </tr>\n",
    "         <tr>\n",
    "            <td><img src=\"https://pth6570.github.io/earth-analytics-intro-final/plots/pawnee_elev_plt.png\"  width=\"400\" alt=\"\"></td>\n",
    "            <td><img src=\"https://pth6570.github.io/earth-analytics-intro-final/plots/comanche_elev_plt.png\"  width=\"400\" alt=\"\"></td>\n",
    "         </tr>\n",
    "         <tr>\n",
    "            <td><img src=\"https://pth6570.github.io/earth-analytics-intro-final/plots/pawnee_aspect_plt.png\"  width=\"400\" alt=\"\"></td>\n",
    "            <td><img src=\"https://pth6570.github.io/earth-analytics-intro-final/plots/comanche_aspect_plt.png\"  width=\"400\" alt=\"\"></td>\n",
    "         </tr>\n",
    "         <tr>\n",
    "            <td> <img src=\"https://pth6570.github.io/earth-analytics-intro-final/plots/pawnee_rcp45_plt.png\"  width=\"400\" alt=\"\"></td>\n",
    "            <td> <img src=\"https://pth6570.github.io/earth-analytics-intro-final/plots/comanche_rcp45_plt.png\"  width=\"400\" alt=\"\"></td>\n",
    "         </tr>\n",
    "         <tr>\n",
    "            <td> <img src=\"https://pth6570.github.io/earth-analytics-intro-final/plots/pawnee_rcp85_plt.png\"  width=\"400\" alt=\"\"></td>\n",
    "            <td> <img src=\"https://pth6570.github.io/earth-analytics-intro-final/plots/comanche_rcp85_plt.png\"  width=\"400\" alt=\"\"></td>\n",
    "         </tr>\n",
    "    </table>\n",
    "   </body>\n",
    "   \n",
    "   To summarize:\n",
    "   * Soil pH in these grasslands is around 6 to 8.5.\n",
    "   * Precipitation tends to be a bit higher in Pawnee Grassland as compared to Comanche Grassland. In both grasslands, the average precipitation in 2050 is expected to be lower in a RCP 4.5 scenario than a RCP 8.5 scenario. \n",
    "   * Elevation varies but much of the grassland areas are in lower elevations.\n"
   ]
  },
  {
   "cell_type": "markdown",
   "metadata": {},
   "source": [
    "## Model\n",
    "The suitability of the environment in each grassland was modeled under RCP 4.5 and RCP 8.5 scenarios in 2050 using the CCSM4 model. The following benchmarks were used as acceptable parameters for <i> S. nutans </i> habitat:\n",
    "* Soil pH: 4.8 to 8.0 (Brakie, 2017)\n",
    "* Precipitation: 11 to 45 inches per year (Brakie, 2017)\n",
    "* Elevation: under 6500 ft (Wilson, n.d.)\n",
    "* Aspect: Not north-facing due to preference for full sun (North Carolina State Extension, n.d.)\n",
    "\n",
    "Arrays for each variable were combined to identify areas where habitat is expected to be suitable for <i>S. nutans</i> in 2050. Areas that met all criteria listed above were categorized as suitable (1) while areas that did not meet one or more criteria were categorized as unsuitable (0). "
   ]
  },
  {
   "cell_type": "markdown",
   "metadata": {},
   "source": [
    "## Results"
   ]
  },
  {
   "cell_type": "markdown",
   "metadata": {},
   "source": [
    " #### Portions of both grasslands are expected to remain suitable for <i>S. nutans</i> in 2050.\n",
    " \n",
    " Plots of each grassland under RCP 4.5 and 8.5 scenarios are below (click the links to view):\n",
    "\n",
    "  <body>\n",
    "    <table border = \"1\">\n",
    "         <tr>\n",
    "            <th>Pawnee National Grassland</th>\n",
    "            <th>Comanche National Grassland</th>\n",
    "         </tr>\n",
    "         <tr>\n",
    "            <td><a href=\"https://pth6570.github.io/earth-analytics-intro-final/plots/pawnee_rcp45_model.html\">RCP 4.5 Model: </a>\n",
    "            Much of the grassland is expected to provide suitable habitat for <i>S. nutans</i> in 2050.</td>\n",
    "            <td><a href=\"https://pth6570.github.io/earth-analytics-intro-final/plots/comanche_rcp45_model.html\">RCP 4.5 Model: </a>Portions of the area will provide suitable habitat. There appears to be less suitable habitat in the southeastern region as compared to the northwestern area.</td>\n",
    "         </tr>\n",
    "         <tr>\n",
    "            <td><a href=\"https://pth6570.github.io/earth-analytics-intro-final/plots/pawnee_rcp85_model.html\">RCP 8.5 Model: </a>As in the RCP 4.5 scenario, much of the grassland is expected to provide suitable habitat for <i>S. nutans</i> in 2050.</td>\n",
    "            <td><a href=\"https://pth6570.github.io/earth-analytics-intro-final/plots/comanche_rcp85_model.html\">RCP 8.5 Model: </a> As in the RCP 4.5 model, there appears to be suitable habitat, more so in the northwest than in the southeast.</td>\n",
    "         </tr>\n",
    "    </table>\n",
    "   </body>\n",
    "\n",
    "To summarize:\n",
    "* RCP 4.5 and 8.5 models were very similar for both grasslands. While there were variations in precipitation (see plots of precipitation above) between the two scenarios, precipitation remained within the acceptable range for <i>S. nutans</i> and thus the final model was similar for the two scenarios.\n",
    "\n",
    "* Portions of both grasslands are expected to remain suitable for <i>S. nutans</i> in 2050, under the conditions modeled here.\n",
    "\n",
    "* In the Comanche grassland, the southeastern portion of the grassland would be less suitable for <i>S. nutans</i>, with much of the region lacking conditions for <i>S. nutans </i>. However, in the northwestern portion of the grassland, much of the land would be suitable for <i>S. nutans</i>."
   ]
  },
  {
   "cell_type": "markdown",
   "metadata": {},
   "source": [
    "## Citations\n",
    "* Brakie, M. 2017. Plant Guide for Indiangrass (Sorghastrum nutans). USDA-Natural Resources Conservation Service, East Texas Plant Materials Center. Nacogdoches, TX 75964.\n",
    "* Colorado Department of Natural Resources (n.d.). Climate. Retrieved December 15, 2023 from: https://19january2017snapshot.epa.gov/sites/production/files/2016-09/documents/climate-change-co.pdf\n",
    "* Environmental Protection Agency (EPA) (2016, August). What Climate Change Means for Colorado. Retrieved December 15, 2023 from: https://19january2017snapshot.epa.gov/sites/production/files/2016-09/documents/climate-change-co.pdf\n",
    "* Forest Service (n.d.). Comanche National Grassland. U.S. Department of Agriculture. Retrieved December 15, 2023 from: https://www.fs.usda.gov/recarea/psicc/recarea/?recid=12409\n",
    "* Forest Service (n.d.). Pawnee National Grassland, NE of Greeley. U.S. Department of Agriculture. Retrieved December 15, 2023 from: https://www.fs.usda.gov/recarea/arp/recarea/?recid=32170\n",
    "* Maxwell, D. (2020, March 13). Pawnee National Grassland. Colorado Encyclopedia. Retrieved December 15, 2023 from https://coloradoencyclopedia.org/article/pawnee-national-grassland\n",
    "* North Carolina State Extension (n.d.). Sorghastrum nutans. \n",
    "Maxwell, D. (2020, March 13), b. Comanche National Grassland. Colorado Encyclopedia. Retrieved from https://coloradoencyclopedia.org/article/comanche-national-grasslandhttps://plants.ces.ncsu.edu/plants/sorghastrum-nutans/#%253A~%253Atext%253DThe%2520plant%2520grows%2520best%2520in%252Cdo%2520well%2520in%2520full%2520shade\n",
    "* Wilson, C.R. (n.d.). Ornamental Grasses: Fact Sheet No. 7.232. Colorado State University Extension. Retrieved December 10, 2023 from: https://extension.colostate.edu/docs/pubs/garden/07232.pdf\n",
    "\n",
    "## Data Citations\n",
    "* Chaney, Nathaniel W., Budiman Minasny, Jonathan D. Herman, Travis W. Nauman, Colby W. Brungard, Cristine LS Morgan\n",
    "Alexander B. McBratney, Eric F. Wood, and Yohannes Yimam. \"POLARIS soil properties: 30‐m probabilistic maps of soil properties\n",
    "over the contiguous United States.\" Water Resources Research 55, no. 4 (2019): 2916-2938.\n",
    "\n",
    "* Hegewisch, K.C. and Abatzoglou, J.T. 'Data Download' web tool. Climate Toolbox (https://climatetoolbox.org/), version 2022-04-24.\n",
    "\n",
    "* NASA JPL (2013). NASA Shuttle Radar Topography Mission Global 1 arc second [Data set]. NASA EOSDIS Land Processes Distributed Active Archive Center. Accessed 2023-12-05 from https://doi.org/10.5067/MEaSUREs/SRTM/SRTMGL1.003"
   ]
  },
  {
   "cell_type": "code",
   "execution_count": 1,
   "metadata": {},
   "outputs": [],
   "source": [
    "%%capture\n",
    "%%bash\n",
    "jupyter nbconvert final_portfolio_project_page.ipynb --to html --no-input"
   ]
  }
 ],
 "metadata": {
  "kernelspec": {
   "display_name": "base",
   "language": "python",
   "name": "python3"
  },
  "language_info": {
   "codemirror_mode": {
    "name": "ipython",
    "version": 3
   },
   "file_extension": ".py",
   "mimetype": "text/x-python",
   "name": "python",
   "nbconvert_exporter": "python",
   "pygments_lexer": "ipython3",
   "version": "3.10.11"
  }
 },
 "nbformat": 4,
 "nbformat_minor": 2
}
